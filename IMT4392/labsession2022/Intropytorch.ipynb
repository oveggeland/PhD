{
 "cells": [
  {
   "cell_type": "code",
   "execution_count": 2,
   "metadata": {},
   "outputs": [
    {
     "name": "stdout",
     "output_type": "stream",
     "text": [
      "%pylab is deprecated, use %matplotlib inline and import the required libraries.\n",
      "Populating the interactive namespace from numpy and matplotlib\n"
     ]
    }
   ],
   "source": [
    "%pylab inline\n",
    "import numpy as np\n",
    "import torch\n",
    "import torch.nn as nn\n",
    "import torch.nn.functional as F\n",
    "import torch.utils.data.dataloader as dataloader\n",
    "import torch.optim as optim\n",
    "\n",
    "from torch.utils.data import TensorDataset\n",
    "from torch.autograd import Variable\n",
    "import torchvision\n",
    "import torchvision.transforms as transforms\n",
    "from torchvision.datasets import MNIST\n",
    "\n",
    "\n",
    "import matplotlib.pyplot as plt\n",
    "from sklearn.metrics import confusion_matrix\n",
    "import time\n",
    "from datetime import timedelta\n",
    "import math\n",
    "import pdb\n",
    "import os"
   ]
  },
  {
   "cell_type": "code",
   "execution_count": 3,
   "metadata": {},
   "outputs": [],
   "source": [
    "num_epochs = 5\n",
    "num_classes = 10\n",
    "batch_size = 15\n",
    "learning_rate = 0.001"
   ]
  },
  {
   "cell_type": "code",
   "execution_count": 4,
   "metadata": {},
   "outputs": [],
   "source": [
    "train_dataset = torchvision.datasets.MNIST(root='./data/',\n",
    "                                           train=True, \n",
    "                                           transform=transforms.ToTensor(),\n",
    "                                           download=True)\n",
    "\n",
    "test_dataset = torchvision.datasets.MNIST(root='./data/',\n",
    "                                          train=False, \n",
    "                                          transform=transforms.ToTensor())\n",
    "\n",
    "# Data loader\n",
    "train_loader = torch.utils.data.DataLoader(dataset=train_dataset,\n",
    "                                           batch_size=batch_size, \n",
    "                                           shuffle=True)\n",
    "\n",
    "test_loader = torch.utils.data.DataLoader(dataset=test_dataset,\n",
    "                                          batch_size=batch_size, \n",
    "                                          shuffle=False)"
   ]
  },
  {
   "cell_type": "code",
   "execution_count": 5,
   "metadata": {},
   "outputs": [
    {
     "name": "stdout",
     "output_type": "stream",
     "text": [
      "Training Data\n",
      " - Number of digit: (60000, 28, 28)\n"
     ]
    }
   ],
   "source": [
    "print('Training Data')\n",
    "print(' - Number of digit:', train_dataset.data.cpu().numpy().shape)"
   ]
  },
  {
   "cell_type": "code",
   "execution_count": 6,
   "metadata": {},
   "outputs": [
    {
     "name": "stdout",
     "output_type": "stream",
     "text": [
      "Test Data\n",
      " - Number of digit: (10000, 28, 28)\n"
     ]
    }
   ],
   "source": [
    "print('Test Data')\n",
    "print(' - Number of digit:', test_dataset.data.cpu().numpy().shape)"
   ]
  },
  {
   "cell_type": "markdown",
   "metadata": {},
   "source": [
    "![title](network_flowchart.png)"
   ]
  },
  {
   "cell_type": "code",
   "execution_count": 7,
   "metadata": {},
   "outputs": [],
   "source": [
    "#Layer 1\n",
    "filter_size1 = 5\n",
    "num_filter1  =16\n",
    "# Layer 2\n",
    "filter_size2 = 5\n",
    "num_filter2  =36\n",
    "#Fully connected\n",
    "num_neuron =  128\n",
    "num_channels = 1"
   ]
  },
  {
   "cell_type": "code",
   "execution_count": 8,
   "metadata": {},
   "outputs": [],
   "source": [
    "# We know that MNIST images are 28 pixels in each dimension.\n",
    "img_size = 28\n",
    "\n",
    "# Images are stored in one-dimensional arrays of this length.\n",
    "img_size_flat = img_size * img_size\n",
    "\n",
    "# Tuple with height and width of images used to reshape arrays.\n",
    "img_shape = (img_size, img_size)\n",
    "\n",
    "# Number of colour channels for the images: 1 channel for gray-scale.\n",
    "num_channels = 1\n",
    "\n",
    "# Number of classes, one class for each of 10 digits.\n",
    "num_classes = 10"
   ]
  },
  {
   "cell_type": "code",
   "execution_count": 9,
   "metadata": {},
   "outputs": [],
   "source": [
    "device = torch.device('cuda:0' if torch.cuda.is_available() else 'cpu')"
   ]
  },
  {
   "cell_type": "code",
   "execution_count": 10,
   "metadata": {},
   "outputs": [],
   "source": [
    "def plot_images(images, cls_true, cls_pred=None):\n",
    "    assert len(images) == len(cls_true) == 9\n",
    "    \n",
    "    # Create figure with 3x3 sub-plots.\n",
    "    fig, axes = plt.subplots(3, 3)\n",
    "    fig.subplots_adjust(hspace=0.3, wspace=0.3)\n",
    "\n",
    "    for i, ax in enumerate(axes.flat):\n",
    "        # Plot image.\n",
    "        ax.imshow(images[i].reshape(img_shape), cmap='binary')\n",
    "\n",
    "        # Show true and predicted classes.\n",
    "        if cls_pred is None:\n",
    "            xlabel = \"True: {0}\".format(cls_true[i])\n",
    "        else:\n",
    "            xlabel = \"True: {0}, Pred: {1}\".format(cls_true[i], cls_pred[i])\n",
    "\n",
    "        # Show the classes as the label on the x-axis.\n",
    "        ax.set_xlabel(xlabel)\n",
    "        \n",
    "        # Remove ticks from the plot.\n",
    "        ax.set_xticks([])\n",
    "        ax.set_yticks([])\n",
    "    \n",
    "    # Ensure the plot is shown correctly with multiple plots\n",
    "    # in a single Notebook cell.\n",
    "    plt.show()"
   ]
  },
  {
   "cell_type": "code",
   "execution_count": 11,
   "metadata": {},
   "outputs": [],
   "source": [
    "def plot_kernels(tensor, num_cols=6):\n",
    "    if not tensor.ndim==4:\n",
    "        raise Exception(\"assumes a 4D tensor\")\n",
    "    if not tensor.shape[-1]==3:\n",
    "        raise Exception(\"last dim needs to be 3 to plot\")\n",
    "    num_kernels = tensor.shape[0]\n",
    "    num_rows = 1+ num_kernels // num_cols\n",
    "    fig = plt.figure(figsize=(num_cols,num_rows))\n",
    "    for i in range(tensor.shape[0]):\n",
    "        ax1 = fig.add_subplot(num_rows,num_cols,i+1)\n",
    "        ax1.imshow(tensor[i])\n",
    "        ax1.axis('off')\n",
    "        ax1.set_xticklabels([])\n",
    "        ax1.set_yticklabels([])\n",
    "\n",
    "    plt.subplots_adjust(wspace=0.1, hspace=0.1)\n",
    "    plt.show()"
   ]
  },
  {
   "cell_type": "code",
   "execution_count": 12,
   "metadata": {},
   "outputs": [],
   "source": [
    "examples = enumerate(test_loader)\n",
    "batch_idx, (example_data, example_targets) = next(examples)"
   ]
  },
  {
   "cell_type": "code",
   "execution_count": 13,
   "metadata": {},
   "outputs": [
    {
     "data": {
      "text/plain": [
       "torch.Size([15, 1, 28, 28])"
      ]
     },
     "execution_count": 13,
     "metadata": {},
     "output_type": "execute_result"
    }
   ],
   "source": [
    "example_data.shape"
   ]
  },
  {
   "cell_type": "code",
   "execution_count": 14,
   "metadata": {},
   "outputs": [
    {
     "data": {
      "image/png": "[encoded data removed]",
      "text/plain": [
       "<Figure size 640x480 with 9 Axes>"
      ]
     },
     "metadata": {},
     "output_type": "display_data"
    }
   ],
   "source": [
    "plot_images(example_data[0:9].permute(0,2,3,1).cpu().numpy(),example_targets[0:9].cpu().numpy())"
   ]
  },
  {
   "cell_type": "code",
   "execution_count": 15,
   "metadata": {},
   "outputs": [
    {
     "data": {
      "text/plain": [
       "torch.Size([15, 28, 28, 1])"
      ]
     },
     "execution_count": 15,
     "metadata": {},
     "output_type": "execute_result"
    }
   ],
   "source": [
    "example_data.permute(0,2,3,1).shape"
   ]
  },
  {
   "cell_type": "code",
   "execution_count": 16,
   "metadata": {},
   "outputs": [],
   "source": [
    "class Net(nn.Module):\n",
    "    def __init__(self):\n",
    "        super(Net, self).__init__()\n",
    "        self.conv1 = nn.Conv2d(1, num_filter1, kernel_size=filter_size1,padding=2)\n",
    "        self.conv2 = nn.Conv2d(num_filter1, num_filter2, kernel_size=filter_size2,padding=2)\n",
    "        self.relu  = nn.ReLU()\n",
    "        self.fc1 = nn.Linear(1764, num_neuron)\n",
    "        self.fc2 = nn.Linear(num_neuron, 10)\n",
    "\n",
    "    def forward(self, x):\n",
    "        x=self.conv1(x)\n",
    "        x= F.max_pool2d(x,2)\n",
    "        w1=self.relu(x)\n",
    "        x = self.conv2(w1)\n",
    "        x=self.relu(x)\n",
    "        w2=F.max_pool2d(x,2)\n",
    "        #pdb.set_trace()\n",
    "        x = w2.view(-1, 1764)\n",
    "        x = F.relu(self.fc1(x))\n",
    "        x = self.fc2(x)\n",
    "        return (x,w1,w2)"
   ]
  },
  {
   "cell_type": "code",
   "execution_count": 17,
   "metadata": {},
   "outputs": [],
   "source": [
    "momentum=0.9\n",
    "model = Net().to(device)\n",
    "optimizer = optim.SGD(model.parameters(), lr=learning_rate,\n",
    "                      momentum=momentum)\n",
    "criterion = nn.CrossEntropyLoss()"
   ]
  },
  {
   "cell_type": "code",
   "execution_count": 18,
   "metadata": {},
   "outputs": [],
   "source": [
    "def plot_image(image):\n",
    "    plt.imshow(image.reshape(img_shape),\n",
    "               interpolation='nearest',\n",
    "               cmap='binary')\n",
    "\n",
    "    plt.show()"
   ]
  },
  {
   "cell_type": "code",
   "execution_count": 19,
   "metadata": {},
   "outputs": [
    {
     "data": {
      "image/png": "[encoded data removed]",
      "text/plain": [
       "<Figure size 640x480 with 1 Axes>"
      ]
     },
     "metadata": {},
     "output_type": "display_data"
    }
   ],
   "source": [
    "image1 = example_data[0].permute(1,2,0).cpu().numpy()\n",
    "plot_image(image1)"
   ]
  },
  {
   "cell_type": "code",
   "execution_count": 20,
   "metadata": {},
   "outputs": [],
   "source": [
    "outputs = model(example_data[0].view(1,1,28,28))"
   ]
  },
  {
   "cell_type": "code",
   "execution_count": 21,
   "metadata": {},
   "outputs": [
    {
     "data": {
      "text/plain": [
       "torch.Size([1, 16, 14, 14])"
      ]
     },
     "execution_count": 21,
     "metadata": {},
     "output_type": "execute_result"
    }
   ],
   "source": [
    "outputs[1].shape"
   ]
  },
  {
   "cell_type": "code",
   "execution_count": 22,
   "metadata": {},
   "outputs": [],
   "source": [
    "def plot_conv_weights(weights, input_channel=0):\n",
    "    w=weights\n",
    "    w_min = np.min(w)\n",
    "    w_max = np.max(w)\n",
    "    #shape =[filter_size,filter_size,num_channels,num_filters]\n",
    "    # Number of filters used in the conv. layer.\n",
    "    num_filters = w.shape[3]\n",
    "    print(num_filters)\n",
    "    # Number of grids to plot.\n",
    "    # Create figure with a grid of sub-plots.\n",
    "    num_grids = math.ceil(math.sqrt(num_filters))\n",
    "    fig, axes = plt.subplots(num_grids, num_grids)\n",
    "\n",
    "    # Plot all the filter-weights.\n",
    "    for i, ax in enumerate(axes.flat):\n",
    "        # Only plot the valid filter-weights.\n",
    "        if i<num_filters:\n",
    "            # Get the weights for the i'th filter of the input channel.\n",
    "            # See new_conv_layer() for details on the format\n",
    "            # of this 4-dim tensor.\n",
    "            img = w[:, :, input_channel, i]\n",
    "\n",
    "            # Plot image.\n",
    "            ax.imshow(img, vmin=w_min, vmax=w_max,\n",
    "                      interpolation='nearest', cmap='seismic')\n",
    "        \n",
    "        # Remove ticks from the plot.\n",
    "        ax.set_xticks([])\n",
    "        ax.set_yticks([])\n",
    "    \n",
    "    # Ensure the plot is shown correctly with multiple plots\n",
    "    # in a single Notebook cell.\n",
    "    plt.show()"
   ]
  },
  {
   "cell_type": "code",
   "execution_count": 23,
   "metadata": {},
   "outputs": [
    {
     "name": "stdout",
     "output_type": "stream",
     "text": [
      "16\n"
     ]
    },
    {
     "data": {
      "image/png": "[encoded data removed]",
      "text/plain": [
       "<Figure size 640x480 with 16 Axes>"
      ]
     },
     "metadata": {},
     "output_type": "display_data"
    }
   ],
   "source": [
    "plot_conv_weights((outputs[1].permute(2,3,0,1).detach().cpu().numpy()))"
   ]
  },
  {
   "cell_type": "code",
   "execution_count": 24,
   "metadata": {},
   "outputs": [],
   "source": [
    "mm = model.float()\n",
    "filters = mm.modules\n",
    "body_model = [i for i in mm.children()]"
   ]
  },
  {
   "cell_type": "code",
   "execution_count": 28,
   "metadata": {},
   "outputs": [
    {
     "data": {
      "text/plain": [
       "<bound method Module.modules of Net(\n",
       "  (conv1): Conv2d(1, 16, kernel_size=(5, 5), stride=(1, 1), padding=(2, 2))\n",
       "  (conv2): Conv2d(16, 36, kernel_size=(5, 5), stride=(1, 1), padding=(2, 2))\n",
       "  (relu): ReLU()\n",
       "  (fc1): Linear(in_features=1764, out_features=128, bias=True)\n",
       "  (fc2): Linear(in_features=128, out_features=10, bias=True)\n",
       ")>"
      ]
     },
     "execution_count": 28,
     "metadata": {},
     "output_type": "execute_result"
    }
   ],
   "source": [
    "filters"
   ]
  },
  {
   "cell_type": "code",
   "execution_count": 29,
   "metadata": {},
   "outputs": [
    {
     "data": {
      "text/plain": [
       "[Conv2d(1, 16, kernel_size=(5, 5), stride=(1, 1), padding=(2, 2)),\n",
       " Conv2d(16, 36, kernel_size=(5, 5), stride=(1, 1), padding=(2, 2)),\n",
       " ReLU(),\n",
       " Linear(in_features=1764, out_features=128, bias=True),\n",
       " Linear(in_features=128, out_features=10, bias=True)]"
      ]
     },
     "execution_count": 29,
     "metadata": {},
     "output_type": "execute_result"
    }
   ],
   "source": [
    "body_model"
   ]
  },
  {
   "cell_type": "code",
   "execution_count": 25,
   "metadata": {},
   "outputs": [],
   "source": [
    "\n",
    "layer1 = body_model[1]\n",
    "tensor = layer1.weight.permute(2,3,1,0).data.cpu().numpy()"
   ]
  },
  {
   "cell_type": "code",
   "execution_count": 26,
   "metadata": {},
   "outputs": [
    {
     "name": "stdout",
     "output_type": "stream",
     "text": [
      "36\n"
     ]
    },
    {
     "data": {
      "image/png": "[encoded data removed]",
      "text/plain": [
       "<Figure size 640x480 with 36 Axes>"
      ]
     },
     "metadata": {},
     "output_type": "display_data"
    }
   ],
   "source": [
    "plot_conv_weights(tensor)"
   ]
  },
  {
   "cell_type": "code",
   "execution_count": null,
   "metadata": {},
   "outputs": [],
   "source": []
  },
  {
   "cell_type": "code",
   "execution_count": 27,
   "metadata": {},
   "outputs": [
    {
     "name": "stdout",
     "output_type": "stream",
     "text": [
      "Epoch [1/5], Step [100/4000], Loss: 2.2809\n",
      "Epoch [1/5], Step [200/4000], Loss: 2.2501\n",
      "Epoch [1/5], Step [300/4000], Loss: 2.0848\n",
      "Epoch [1/5], Step [400/4000], Loss: 1.4624\n",
      "Epoch [1/5], Step [500/4000], Loss: 0.5721\n",
      "Epoch [1/5], Step [600/4000], Loss: 0.4749\n",
      "Epoch [1/5], Step [700/4000], Loss: 0.1733\n",
      "Epoch [1/5], Step [800/4000], Loss: 0.2332\n",
      "Epoch [1/5], Step [900/4000], Loss: 0.2092\n",
      "Epoch [1/5], Step [1000/4000], Loss: 0.5266\n",
      "Epoch [1/5], Step [1100/4000], Loss: 0.3391\n",
      "Epoch [1/5], Step [1200/4000], Loss: 0.6980\n",
      "Epoch [1/5], Step [1300/4000], Loss: 0.1428\n",
      "Epoch [1/5], Step [1400/4000], Loss: 0.1686\n",
      "Epoch [1/5], Step [1500/4000], Loss: 0.1722\n",
      "Epoch [1/5], Step [1600/4000], Loss: 0.1498\n",
      "Epoch [1/5], Step [1700/4000], Loss: 0.3852\n",
      "Epoch [1/5], Step [1800/4000], Loss: 0.0663\n",
      "Epoch [1/5], Step [1900/4000], Loss: 0.1704\n",
      "Epoch [1/5], Step [2000/4000], Loss: 0.3970\n",
      "Epoch [1/5], Step [2100/4000], Loss: 0.2378\n",
      "Epoch [1/5], Step [2200/4000], Loss: 0.1341\n",
      "Epoch [1/5], Step [2300/4000], Loss: 0.1149\n",
      "Epoch [1/5], Step [2400/4000], Loss: 0.3566\n",
      "Epoch [1/5], Step [2500/4000], Loss: 0.5839\n",
      "Epoch [1/5], Step [2600/4000], Loss: 0.1255\n",
      "Epoch [1/5], Step [2700/4000], Loss: 0.0677\n",
      "Epoch [1/5], Step [2800/4000], Loss: 0.1436\n",
      "Epoch [1/5], Step [2900/4000], Loss: 0.0068\n",
      "Epoch [1/5], Step [3000/4000], Loss: 0.1557\n",
      "Epoch [1/5], Step [3100/4000], Loss: 0.0631\n",
      "Epoch [1/5], Step [3200/4000], Loss: 0.0120\n",
      "Epoch [1/5], Step [3300/4000], Loss: 0.0088\n",
      "Epoch [1/5], Step [3400/4000], Loss: 0.0471\n",
      "Epoch [1/5], Step [3500/4000], Loss: 0.1242\n",
      "Epoch [1/5], Step [3600/4000], Loss: 0.0925\n",
      "Epoch [1/5], Step [3700/4000], Loss: 0.0761\n",
      "Epoch [1/5], Step [3800/4000], Loss: 0.0111\n",
      "Epoch [1/5], Step [3900/4000], Loss: 0.0437\n",
      "Epoch [1/5], Step [4000/4000], Loss: 0.0253\n",
      "Epoch [2/5], Step [100/4000], Loss: 0.2742\n",
      "Epoch [2/5], Step [200/4000], Loss: 0.7490\n",
      "Epoch [2/5], Step [300/4000], Loss: 0.0604\n",
      "Epoch [2/5], Step [400/4000], Loss: 0.0958\n",
      "Epoch [2/5], Step [500/4000], Loss: 0.0287\n",
      "Epoch [2/5], Step [600/4000], Loss: 0.1749\n",
      "Epoch [2/5], Step [700/4000], Loss: 0.1532\n",
      "Epoch [2/5], Step [800/4000], Loss: 0.0913\n",
      "Epoch [2/5], Step [900/4000], Loss: 0.0327\n",
      "Epoch [2/5], Step [1000/4000], Loss: 0.1256\n",
      "Epoch [2/5], Step [1100/4000], Loss: 0.0347\n",
      "Epoch [2/5], Step [1200/4000], Loss: 0.0041\n",
      "Epoch [2/5], Step [1300/4000], Loss: 0.0610\n",
      "Epoch [2/5], Step [1400/4000], Loss: 0.0109\n",
      "Epoch [2/5], Step [1500/4000], Loss: 0.1554\n",
      "Epoch [2/5], Step [1600/4000], Loss: 0.0931\n",
      "Epoch [2/5], Step [1700/4000], Loss: 0.0132\n",
      "Epoch [2/5], Step [1800/4000], Loss: 0.2707\n",
      "Epoch [2/5], Step [1900/4000], Loss: 0.0050\n",
      "Epoch [2/5], Step [2000/4000], Loss: 0.0296\n",
      "Epoch [2/5], Step [2100/4000], Loss: 0.0016\n",
      "Epoch [2/5], Step [2200/4000], Loss: 0.4887\n",
      "Epoch [2/5], Step [2300/4000], Loss: 0.0870\n",
      "Epoch [2/5], Step [2400/4000], Loss: 0.0431\n",
      "Epoch [2/5], Step [2500/4000], Loss: 0.0113\n",
      "Epoch [2/5], Step [2600/4000], Loss: 0.0164\n",
      "Epoch [2/5], Step [2700/4000], Loss: 0.0171\n",
      "Epoch [2/5], Step [2800/4000], Loss: 0.0649\n",
      "Epoch [2/5], Step [2900/4000], Loss: 0.0619\n",
      "Epoch [2/5], Step [3000/4000], Loss: 0.0082\n",
      "Epoch [2/5], Step [3100/4000], Loss: 0.0082\n",
      "Epoch [2/5], Step [3200/4000], Loss: 0.0136\n",
      "Epoch [2/5], Step [3300/4000], Loss: 0.0392\n",
      "Epoch [2/5], Step [3400/4000], Loss: 0.0091\n",
      "Epoch [2/5], Step [3500/4000], Loss: 0.0049\n",
      "Epoch [2/5], Step [3600/4000], Loss: 0.0211\n",
      "Epoch [2/5], Step [3700/4000], Loss: 0.0109\n",
      "Epoch [2/5], Step [3800/4000], Loss: 0.0685\n",
      "Epoch [2/5], Step [3900/4000], Loss: 0.0072\n",
      "Epoch [2/5], Step [4000/4000], Loss: 0.0513\n",
      "Epoch [3/5], Step [100/4000], Loss: 0.0358\n",
      "Epoch [3/5], Step [200/4000], Loss: 0.0643\n",
      "Epoch [3/5], Step [300/4000], Loss: 0.0432\n",
      "Epoch [3/5], Step [400/4000], Loss: 0.0174\n",
      "Epoch [3/5], Step [500/4000], Loss: 0.0072\n",
      "Epoch [3/5], Step [600/4000], Loss: 0.0345\n",
      "Epoch [3/5], Step [700/4000], Loss: 0.0128\n",
      "Epoch [3/5], Step [800/4000], Loss: 0.0043\n",
      "Epoch [3/5], Step [900/4000], Loss: 0.0049\n",
      "Epoch [3/5], Step [1000/4000], Loss: 0.0439\n",
      "Epoch [3/5], Step [1100/4000], Loss: 0.0090\n",
      "Epoch [3/5], Step [1200/4000], Loss: 0.0184\n",
      "Epoch [3/5], Step [1300/4000], Loss: 0.0285\n",
      "Epoch [3/5], Step [1400/4000], Loss: 0.0020\n",
      "Epoch [3/5], Step [1500/4000], Loss: 0.6209\n",
      "Epoch [3/5], Step [1600/4000], Loss: 0.0168\n",
      "Epoch [3/5], Step [1700/4000], Loss: 0.0145\n",
      "Epoch [3/5], Step [1800/4000], Loss: 0.0043\n",
      "Epoch [3/5], Step [1900/4000], Loss: 0.0801\n",
      "Epoch [3/5], Step [2000/4000], Loss: 0.0075\n",
      "Epoch [3/5], Step [2100/4000], Loss: 0.0259\n",
      "Epoch [3/5], Step [2200/4000], Loss: 0.0779\n",
      "Epoch [3/5], Step [2300/4000], Loss: 0.0051\n",
      "Epoch [3/5], Step [2400/4000], Loss: 0.0291\n",
      "Epoch [3/5], Step [2500/4000], Loss: 0.0161\n",
      "Epoch [3/5], Step [2600/4000], Loss: 0.1350\n",
      "Epoch [3/5], Step [2700/4000], Loss: 0.0044\n",
      "Epoch [3/5], Step [2800/4000], Loss: 0.0484\n",
      "Epoch [3/5], Step [2900/4000], Loss: 0.0116\n",
      "Epoch [3/5], Step [3000/4000], Loss: 0.0121\n",
      "Epoch [3/5], Step [3100/4000], Loss: 0.0061\n",
      "Epoch [3/5], Step [3200/4000], Loss: 0.0111\n",
      "Epoch [3/5], Step [3300/4000], Loss: 0.3169\n",
      "Epoch [3/5], Step [3400/4000], Loss: 0.0382\n",
      "Epoch [3/5], Step [3500/4000], Loss: 0.1974\n",
      "Epoch [3/5], Step [3600/4000], Loss: 0.0010\n",
      "Epoch [3/5], Step [3700/4000], Loss: 0.0032\n",
      "Epoch [3/5], Step [3800/4000], Loss: 0.2896\n",
      "Epoch [3/5], Step [3900/4000], Loss: 0.1971\n",
      "Epoch [3/5], Step [4000/4000], Loss: 0.0194\n",
      "Epoch [4/5], Step [100/4000], Loss: 0.0268\n",
      "Epoch [4/5], Step [200/4000], Loss: 0.0109\n",
      "Epoch [4/5], Step [300/4000], Loss: 0.0182\n",
      "Epoch [4/5], Step [400/4000], Loss: 0.0100\n",
      "Epoch [4/5], Step [500/4000], Loss: 0.0010\n",
      "Epoch [4/5], Step [600/4000], Loss: 0.0069\n",
      "Epoch [4/5], Step [700/4000], Loss: 0.0145\n",
      "Epoch [4/5], Step [800/4000], Loss: 0.2898\n",
      "Epoch [4/5], Step [900/4000], Loss: 0.0103\n",
      "Epoch [4/5], Step [1000/4000], Loss: 0.0343\n",
      "Epoch [4/5], Step [1100/4000], Loss: 0.0130\n",
      "Epoch [4/5], Step [1200/4000], Loss: 0.0005\n",
      "Epoch [4/5], Step [1300/4000], Loss: 0.0030\n",
      "Epoch [4/5], Step [1400/4000], Loss: 0.3434\n",
      "Epoch [4/5], Step [1500/4000], Loss: 0.3012\n",
      "Epoch [4/5], Step [1600/4000], Loss: 0.0130\n",
      "Epoch [4/5], Step [1700/4000], Loss: 0.0058\n",
      "Epoch [4/5], Step [1800/4000], Loss: 0.0245\n",
      "Epoch [4/5], Step [1900/4000], Loss: 0.0310\n",
      "Epoch [4/5], Step [2000/4000], Loss: 0.0016\n",
      "Epoch [4/5], Step [2100/4000], Loss: 0.0050\n",
      "Epoch [4/5], Step [2200/4000], Loss: 0.2308\n",
      "Epoch [4/5], Step [2300/4000], Loss: 0.0019\n",
      "Epoch [4/5], Step [2400/4000], Loss: 0.1577\n",
      "Epoch [4/5], Step [2500/4000], Loss: 0.0780\n",
      "Epoch [4/5], Step [2600/4000], Loss: 0.1806\n",
      "Epoch [4/5], Step [2700/4000], Loss: 0.0142\n",
      "Epoch [4/5], Step [2800/4000], Loss: 0.0802\n",
      "Epoch [4/5], Step [2900/4000], Loss: 0.0082\n",
      "Epoch [4/5], Step [3000/4000], Loss: 0.0480\n",
      "Epoch [4/5], Step [3100/4000], Loss: 0.0211\n",
      "Epoch [4/5], Step [3200/4000], Loss: 0.0579\n",
      "Epoch [4/5], Step [3300/4000], Loss: 0.0019\n",
      "Epoch [4/5], Step [3400/4000], Loss: 0.0084\n",
      "Epoch [4/5], Step [3500/4000], Loss: 0.0180\n",
      "Epoch [4/5], Step [3600/4000], Loss: 0.0017\n",
      "Epoch [4/5], Step [3700/4000], Loss: 0.0042\n",
      "Epoch [4/5], Step [3800/4000], Loss: 0.0066\n",
      "Epoch [4/5], Step [3900/4000], Loss: 0.0023\n",
      "Epoch [4/5], Step [4000/4000], Loss: 0.0138\n",
      "Epoch [5/5], Step [100/4000], Loss: 0.0047\n",
      "Epoch [5/5], Step [200/4000], Loss: 0.0014\n",
      "Epoch [5/5], Step [300/4000], Loss: 0.0099\n",
      "Epoch [5/5], Step [400/4000], Loss: 0.0555\n",
      "Epoch [5/5], Step [500/4000], Loss: 0.0015\n",
      "Epoch [5/5], Step [600/4000], Loss: 0.0074\n",
      "Epoch [5/5], Step [700/4000], Loss: 0.0010\n",
      "Epoch [5/5], Step [800/4000], Loss: 0.0022\n",
      "Epoch [5/5], Step [900/4000], Loss: 0.0391\n",
      "Epoch [5/5], Step [1000/4000], Loss: 0.0024\n",
      "Epoch [5/5], Step [1100/4000], Loss: 0.0209\n",
      "Epoch [5/5], Step [1200/4000], Loss: 0.0714\n",
      "Epoch [5/5], Step [1300/4000], Loss: 0.0016\n",
      "Epoch [5/5], Step [1400/4000], Loss: 0.0636\n",
      "Epoch [5/5], Step [1500/4000], Loss: 0.0070\n",
      "Epoch [5/5], Step [1600/4000], Loss: 0.0132\n",
      "Epoch [5/5], Step [1700/4000], Loss: 0.0140\n",
      "Epoch [5/5], Step [1800/4000], Loss: 0.0040\n",
      "Epoch [5/5], Step [1900/4000], Loss: 0.0271\n",
      "Epoch [5/5], Step [2000/4000], Loss: 0.0532\n",
      "Epoch [5/5], Step [2100/4000], Loss: 0.0096\n",
      "Epoch [5/5], Step [2200/4000], Loss: 0.0004\n",
      "Epoch [5/5], Step [2300/4000], Loss: 0.0028\n",
      "Epoch [5/5], Step [2400/4000], Loss: 0.0083\n",
      "Epoch [5/5], Step [2500/4000], Loss: 0.0397\n",
      "Epoch [5/5], Step [2600/4000], Loss: 0.0582\n",
      "Epoch [5/5], Step [2700/4000], Loss: 0.0009\n",
      "Epoch [5/5], Step [2800/4000], Loss: 0.0049\n"
     ]
    },
    {
     "name": "stdout",
     "output_type": "stream",
     "text": [
      "Epoch [5/5], Step [2900/4000], Loss: 0.0022\n",
      "Epoch [5/5], Step [3000/4000], Loss: 0.0053\n",
      "Epoch [5/5], Step [3100/4000], Loss: 0.0020\n",
      "Epoch [5/5], Step [3200/4000], Loss: 0.0002\n",
      "Epoch [5/5], Step [3300/4000], Loss: 0.0019\n",
      "Epoch [5/5], Step [3400/4000], Loss: 0.0582\n",
      "Epoch [5/5], Step [3500/4000], Loss: 0.0151\n",
      "Epoch [5/5], Step [3600/4000], Loss: 0.0053\n",
      "Epoch [5/5], Step [3700/4000], Loss: 0.0062\n",
      "Epoch [5/5], Step [3800/4000], Loss: 0.0044\n",
      "Epoch [5/5], Step [3900/4000], Loss: 0.0606\n",
      "Epoch [5/5], Step [4000/4000], Loss: 0.0503\n"
     ]
    }
   ],
   "source": [
    "model.train()\n",
    "\n",
    "total_step = len(train_loader)\n",
    "for epoch in range(num_epochs):\n",
    "    for i, (images, labels) in enumerate(train_loader):\n",
    "        images = images.to(device)\n",
    "        labels = labels.to(device)\n",
    "        \n",
    "        # Forward pass\n",
    "        outputs = model(images)\n",
    "        loss = criterion(outputs[0], labels)\n",
    "        \n",
    "        # Backward and optimize\n",
    "        optimizer.zero_grad()\n",
    "        loss.backward()\n",
    "        optimizer.step()\n",
    "        \n",
    "        if (i+1) % 100 == 0:\n",
    "            print ('Epoch [{}/{}], Step [{}/{}], Loss: {:.4f}' \n",
    "                   .format(epoch+1, num_epochs, i+1, total_step, loss.item()))"
   ]
  },
  {
   "cell_type": "code",
   "execution_count": 30,
   "metadata": {},
   "outputs": [],
   "source": [
    "# Split the test-set into smaller batches of this size.\n",
    "test_batch_size = batch_size\n",
    "model.eval() \n",
    "def print_test_accuracy(show_example_errors=False,\n",
    "                        show_confusion_matrix=False):\n",
    "\n",
    "    num_test = test_dataset.data.cpu().numpy().shape[0]\n",
    "    cls_pred = np.zeros(shape=num_test, dtype=np.int)\n",
    "    cls_true = np.zeros(shape=num_test, dtype=np.int)\n",
    "    i = 0\n",
    "    with torch.no_grad():\n",
    "        correct = 0\n",
    "        total = 0\n",
    "        for images, labels in test_loader:\n",
    "            images = images.to(device)\n",
    "            labels = labels.to(device)\n",
    "            outputs = model(images)\n",
    "            _, predicted = torch.max(outputs[0].data, 1)\n",
    "            total += labels.size(0)\n",
    "            #pdb.set_trace()\n",
    "            correct += (predicted == labels).sum().item()\n",
    "            # The ending index for the next batch is denoted j.\n",
    "            j = min(i + test_batch_size, num_test)\n",
    "\n",
    "            # Calculate the predicted class using TensorFlow.\n",
    "            cls_pred[i:j] = predicted.detach().cpu().numpy()\n",
    "            cls_true[i:j] =labels.detach().cpu().numpy()\n",
    "            # Set the start-index for the next batch to the\n",
    "            # end-index of the current batch.\n",
    "            i = j\n",
    "\n",
    "    # Convenience variable for the true class-numbers of the test-set.\n",
    "\n",
    "\n",
    "    # Create a boolean array whether each image is correctly classified.\n",
    "    correct = (cls_true == cls_pred)\n",
    "\n",
    "    # Calculate the number of correctly classified images.\n",
    "    # When summing a boolean array, False means 0 and True means 1.\n",
    "    correct_sum = correct.sum()\n",
    "\n",
    "    # Classification accuracy is the number of correctly classified\n",
    "    # images divided by the total number of images in the test-set.\n",
    "    acc = float(correct_sum) / num_test\n",
    "\n",
    "    # Print the accuracy.\n",
    "    msg = \"Accuracy on Test-Set: {0:.1%} ({1} / {2})\"\n",
    "    print(msg.format(acc, correct_sum, num_test))\n",
    "\n",
    "    # Plot some examples of mis-classifications, if desired.\n",
    "    if show_example_errors:\n",
    "        print(\"Example errors:\")\n",
    "        plot_example_errors(cls_pred=cls_pred, correct=correct)\n",
    "\n",
    "    # Plot the confusion matrix, if desired.\n",
    "    if show_confusion_matrix:\n",
    "        print(\"Confusion Matrix:\")\n",
    "        plot_confusion_matrix(cls_pred=cls_pred, cls_true=cls_true)"
   ]
  },
  {
   "cell_type": "code",
   "execution_count": 31,
   "metadata": {},
   "outputs": [],
   "source": [
    "def plot_example_errors(cls_pred, correct):\n",
    "    incorrect = (correct == False)\n",
    "    images = test_dataset.data.cpu().numpy()[incorrect]\n",
    "    cls_pred = cls_pred[incorrect]\n",
    "    cls_true = test_dataset.targets.cpu().numpy()[incorrect]\n",
    "    plot_images(images=images[0:9],\n",
    "                cls_true=cls_true[0:9],\n",
    "                cls_pred=cls_pred[0:9])"
   ]
  },
  {
   "cell_type": "code",
   "execution_count": 32,
   "metadata": {},
   "outputs": [
    {
     "data": {
      "text/plain": [
       "(10000,)"
      ]
     },
     "execution_count": 32,
     "metadata": {},
     "output_type": "execute_result"
    }
   ],
   "source": [
    "test_dataset.targets.cpu().numpy().shape"
   ]
  },
  {
   "cell_type": "code",
   "execution_count": 33,
   "metadata": {},
   "outputs": [],
   "source": [
    "def plot_confusion_matrix(cls_pred,cls_true):\n",
    "    cm = confusion_matrix(y_true=cls_true,\n",
    "                          y_pred=cls_pred)\n",
    "    print(cm)"
   ]
  },
  {
   "cell_type": "code",
   "execution_count": 34,
   "metadata": {},
   "outputs": [
    {
     "name": "stderr",
     "output_type": "stream",
     "text": [
      "C:\\Users\\ahmedkm\\AppData\\Local\\Temp\\ipykernel_11100\\1522424286.py:8: DeprecationWarning: `np.int` is a deprecated alias for the builtin `int`. To silence this warning, use `int` by itself. Doing this will not modify any behavior and is safe. When replacing `np.int`, you may wish to use e.g. `np.int64` or `np.int32` to specify the precision. If you wish to review your current use, check the release note link for additional information.\n",
      "Deprecated in NumPy 1.20; for more details and guidance: https://numpy.org/devdocs/release/1.20.0-notes.html#deprecations\n",
      "  cls_pred = np.zeros(shape=num_test, dtype=np.int)\n",
      "C:\\Users\\ahmedkm\\AppData\\Local\\Temp\\ipykernel_11100\\1522424286.py:9: DeprecationWarning: `np.int` is a deprecated alias for the builtin `int`. To silence this warning, use `int` by itself. Doing this will not modify any behavior and is safe. When replacing `np.int`, you may wish to use e.g. `np.int64` or `np.int32` to specify the precision. If you wish to review your current use, check the release note link for additional information.\n",
      "Deprecated in NumPy 1.20; for more details and guidance: https://numpy.org/devdocs/release/1.20.0-notes.html#deprecations\n",
      "  cls_true = np.zeros(shape=num_test, dtype=np.int)\n"
     ]
    },
    {
     "name": "stdout",
     "output_type": "stream",
     "text": [
      "Accuracy on Test-Set: 98.8% (9876 / 10000)\n",
      "Example errors:\n"
     ]
    },
    {
     "data": {
      "image/png": "[encoded data removed]",
      "text/plain": [
       "<Figure size 640x480 with 9 Axes>"
      ]
     },
     "metadata": {},
     "output_type": "display_data"
    },
    {
     "name": "stdout",
     "output_type": "stream",
     "text": [
      "Confusion Matrix:\n",
      "[[ 975    0    1    0    0    0    0    1    3    0]\n",
      " [   0 1125    2    1    0    1    1    1    4    0]\n",
      " [   1    1 1021    3    0    0    0    3    3    0]\n",
      " [   1    0    0 1002    0    2    0    2    2    1]\n",
      " [   0    0    3    0  964    0    1    3    1   10]\n",
      " [   2    0    0   10    0  878    2    0    0    0]\n",
      " [   5    2    0    1    2    4  943    0    1    0]\n",
      " [   0    2    5    1    0    0    0 1017    1    2]\n",
      " [   1    0    2    3    0    1    0    2  964    1]\n",
      " [   2    2    0    4    6    2    0    4    2  987]]\n"
     ]
    }
   ],
   "source": [
    "print_test_accuracy(show_example_errors=True,show_confusion_matrix=True)"
   ]
  },
  {
   "cell_type": "code",
   "execution_count": null,
   "metadata": {},
   "outputs": [],
   "source": [
    "\n",
    "\n",
    "# Save the model checkpoint\n",
    "torch.save(model.state_dict(), 'model.ckpt')"
   ]
  },
  {
   "cell_type": "code",
   "execution_count": null,
   "metadata": {},
   "outputs": [],
   "source": []
  }
 ],
 "metadata": {
  "kernelspec": {
   "display_name": "Python 3 (ipykernel)",
   "language": "python",
   "name": "python3"
  },
  "language_info": {
   "codemirror_mode": {
    "name": "ipython",
    "version": 3
   },
   "file_extension": ".py",
   "mimetype": "text/x-python",
   "name": "python",
   "nbconvert_exporter": "python",
   "pygments_lexer": "ipython3",
   "version": "3.10.2"
  }
 },
 "nbformat": 4,
 "nbformat_minor": 2
}
