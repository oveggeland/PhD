{
 "cells": [
  {
   "cell_type": "markdown",
   "metadata": {},
   "source": [
    "# Import stuff"
   ]
  },
  {
   "cell_type": "code",
   "execution_count": 24,
   "metadata": {},
   "outputs": [],
   "source": [
    "%matplotlib inline\n",
    "import numpy as np\n",
    "import torch\n",
    "import torch.nn as nn\n",
    "import torch.nn.functional as F\n",
    "import torch.utils.data.dataloader as dataloader\n",
    "import torch.optim as optim\n",
    "\n",
    "from torch.utils.data import TensorDataset\n",
    "from torch.autograd import Variable\n",
    "import torchvision\n",
    "import torchvision.transforms as transforms\n",
    "from torchvision.datasets import MNIST\n",
    "\n",
    "\n",
    "import matplotlib.pyplot as plt\n",
    "from sklearn.metrics import confusion_matrix\n",
    "import time\n",
    "from datetime import timedelta\n",
    "import math\n",
    "import pdb\n",
    "import os"
   ]
  },
  {
   "cell_type": "markdown",
   "metadata": {},
   "source": [
    "# Initialize dataset, parameters and network arcitecthure"
   ]
  },
  {
   "cell_type": "code",
   "execution_count": 61,
   "metadata": {},
   "outputs": [],
   "source": [
    "# Dataset\n",
    "dataset = torchvision.datasets.MNIST(root='./data/',\n",
    "                                           train=True, \n",
    "                                           transform=transforms.ToTensor(),\n",
    "                                           download=True)\n",
    "\n",
    "# Default optimization parameters\n",
    "exp_params = {\n",
    "    'epochs': 5,\n",
    "    'batch_size': 15,\n",
    "    'learning_rate': 0.001,\n",
    "    'momentum': 0.9,\n",
    "    'dataset_size': 0.1,                    # Reduce dataset size by this factor\n",
    "    'train_size_ratio': 0.05                # This amount of remaining data should be set aside for training\n",
    "}\n",
    "\n",
    "\n",
    "# Default network architecture\n",
    "img_size = 28\n",
    "# Conv layer 1\n",
    "filter_size1 = 5\n",
    "num_filter1  =16\n",
    "pool_size1 = 2\n",
    "\n",
    "# Conv layer 2\n",
    "filter_size2 = 5\n",
    "num_filter2 =36\n",
    "pool_size2 = 2\n",
    "\n",
    "# Fully connected layer\n",
    "lin_input_size = int( img_size**2 * num_filter2 / (pool_size1**2 * pool_size2**2) )\n",
    "num_neuron =  128\n",
    "num_classes = 10\n",
    "\n",
    "\n",
    "class Net(nn.Module):\n",
    "    def __init__(self):\n",
    "        super(Net, self).__init__()\n",
    "        self.conv1 = nn.Conv2d(1, num_filter1, kernel_size=filter_size1,padding=filter_size1//2)\n",
    "        self.conv2 = nn.Conv2d(num_filter1, num_filter2, kernel_size=filter_size2,padding=filter_size2//2)\n",
    "        self.relu  = nn.ReLU()\n",
    "        self.fc1 = nn.Linear(lin_input_size, num_neuron)\n",
    "        self.fc2 = nn.Linear(num_neuron, num_classes)\n",
    "\n",
    "    def forward(self, x):\n",
    "        x=self.conv1(x)\n",
    "        x= F.max_pool2d(x,pool_size1)\n",
    "        w1=self.relu(x)\n",
    "        x = self.conv2(w1)\n",
    "        x=self.relu(x)\n",
    "        w2=F.max_pool2d(x,pool_size2)\n",
    "        x = w2.view(-1, lin_input_size)\n",
    "        x = F.relu(self.fc1(x))\n",
    "        x = self.fc2(x)\n",
    "        return (x,w1,w2)"
   ]
  },
  {
   "cell_type": "markdown",
   "metadata": {},
   "source": [
    "# Run experiment"
   ]
  },
  {
   "cell_type": "code",
   "execution_count": 62,
   "metadata": {},
   "outputs": [
    {
     "name": "stdout",
     "output_type": "stream",
     "text": [
      "__NEW EXPERIMENT__\n",
      "Epoch [1/5], Step [100/200], Loss: 2.3001\n",
      "Epoch [1/5], Step [200/200], Loss: 2.2745\n",
      "Epoch [2/5], Step [100/200], Loss: 2.1155\n",
      "Epoch [2/5], Step [200/200], Loss: 1.7439\n",
      "Epoch [3/5], Step [100/200], Loss: 0.9886\n",
      "Epoch [3/5], Step [200/200], Loss: 0.5315\n",
      "Epoch [4/5], Step [100/200], Loss: 0.4120\n",
      "Epoch [4/5], Step [200/200], Loss: 0.2442\n",
      "Epoch [5/5], Step [100/200], Loss: 0.3841\n",
      "Epoch [5/5], Step [200/200], Loss: 0.4689\n"
     ]
    }
   ],
   "source": [
    "import os\n",
    "import datetime\n",
    "import json\n",
    "\n",
    "def new_experiment(exp_params):\n",
    "    print(\"__NEW EXPERIMENT__\")\n",
    "    \n",
    "    exp_path = os.path.join(\"exps\", datetime.datetime.now().strftime(\"%Y_%M_%d-%T\"))\n",
    "    os.mkdir(exp_path)\n",
    "    # Dump parameters for experiment for later reference\n",
    "    with open(os.path.join(exp_path, \"params.json\"), 'w') as fp:\n",
    "        json.dump(exp_params, fp, indent=4)\n",
    "    \n",
    "    # Define model and optimizer\n",
    "    device = torch.device('cuda:0' if torch.cuda.is_available() else 'cpu')\n",
    "    model = Net().to(device)\n",
    "    optimizer = optim.SGD(model.parameters(), lr=exp_params['learning_rate'], momentum=exp_params['momentum'])\n",
    "    criterion = nn.CrossEntropyLoss()\n",
    "    \n",
    "    \n",
    "    # Split train and validation\n",
    "    train_size = int(len(dataset)*exp_params['train_size_ratio'])\n",
    "    val_size = len(dataset) - train_size\n",
    "    train_set, val_set = torch.utils.data.random_split(dataset, [train_size, val_size])\n",
    "    \n",
    "    train_loader = torch.utils.data.DataLoader(dataset=train_set,\n",
    "                                           batch_size=exp_params['batch_size'], \n",
    "                                           shuffle=True)    \n",
    "    n_batches = len(train_loader)\n",
    "    \n",
    "    val_loader = torch.utils.data.DataLoader(dataset=val_set,\n",
    "                                        batch_size=val_size, \n",
    "                                        shuffle=True)    \n",
    "    val_images, val_labels = next(iter(val_loader))\n",
    "    \n",
    "    # Allocate memory for val and training loss\n",
    "    train_loss = np.zeros(exp_params['epochs'])\n",
    "    val_loss = np.zeros(exp_params['epochs'])\n",
    "    \n",
    "    \n",
    "    # Start training loop\n",
    "    for epoch in range(exp_params['epochs']):\n",
    "        epoch_loss = 0\n",
    "        for i, (images, labels) in enumerate(train_loader):\n",
    "            images = images.to(device)\n",
    "            labels = labels.to(device)\n",
    "\n",
    "            # Forward pass\n",
    "            outputs = model(images)\n",
    "            loss = criterion(outputs[0], labels)\n",
    "\n",
    "            # Backward and optimize\n",
    "            optimizer.zero_grad()\n",
    "            loss.backward()\n",
    "            optimizer.step()\n",
    "            \n",
    "            epoch_loss += loss\n",
    "\n",
    "            if (i+1) % 100 == 0:\n",
    "                print ('Epoch [{}/{}], Step [{}/{}], Loss: {:.4f}' \n",
    "                       .format(epoch+1, exp_params['epochs'], i+1, n_batches, loss.item()))\n",
    "                \n",
    "        train_loss[epoch] = epoch_loss / n_batches\n",
    "        \n",
    "        with torch.no_grad():\n",
    "            outputs = model(val_images)\n",
    "            val_loss[epoch] = criterion(outputs[0], val_labels)\n",
    "                \n",
    "    return train_loss, val_loss\n",
    "\n",
    "tl, vl = new_experiment(exp_params)"
   ]
  },
  {
   "cell_type": "code",
   "execution_count": 63,
   "metadata": {},
   "outputs": [
    {
     "data": {
      "image/png": "[encoded data removed]",
      "text/plain": [
       "<Figure size 640x480 with 1 Axes>"
      ]
     },
     "metadata": {},
     "output_type": "display_data"
    }
   ],
   "source": [
    "plt.plot(tl/2000)\n",
    "plt.plot(vl)\n",
    "plt.show()"
   ]
  },
  {
   "cell_type": "code",
   "execution_count": 27,
   "metadata": {},
   "outputs": [
    {
     "ename": "NameError",
     "evalue": "name 'batch_size' is not defined",
     "output_type": "error",
     "traceback": [
      "\u001b[0;31m---------------------------------------------------------------------------\u001b[0m",
      "\u001b[0;31mNameError\u001b[0m                                 Traceback (most recent call last)",
      "Input \u001b[0;32mIn [27]\u001b[0m, in \u001b[0;36m<cell line: 2>\u001b[0;34m()\u001b[0m\n\u001b[1;32m      1\u001b[0m \u001b[38;5;66;03m# Split the test-set into smaller batches of this size.\u001b[39;00m\n\u001b[0;32m----> 2\u001b[0m test_batch_size \u001b[38;5;241m=\u001b[39m \u001b[43mbatch_size\u001b[49m\n\u001b[1;32m      3\u001b[0m model\u001b[38;5;241m.\u001b[39meval() \n\u001b[1;32m      4\u001b[0m \u001b[38;5;28;01mdef\u001b[39;00m \u001b[38;5;21mprint_test_accuracy\u001b[39m(show_example_errors\u001b[38;5;241m=\u001b[39m\u001b[38;5;28;01mFalse\u001b[39;00m,\n\u001b[1;32m      5\u001b[0m                         show_confusion_matrix\u001b[38;5;241m=\u001b[39m\u001b[38;5;28;01mFalse\u001b[39;00m):\n",
      "\u001b[0;31mNameError\u001b[0m: name 'batch_size' is not defined"
     ]
    }
   ],
   "source": [
    "# Split the test-set into smaller batches of this size.\n",
    "test_batch_size = batch_size\n",
    "model.eval() \n",
    "def print_test_accuracy(show_example_errors=False,\n",
    "                        show_confusion_matrix=False):\n",
    "\n",
    "    num_test = test_dataset.data.cpu().numpy().shape[0]\n",
    "    cls_pred = np.zeros(shape=num_test, dtype=np.int)\n",
    "    cls_true = np.zeros(shape=num_test, dtype=np.int)\n",
    "    i = 0\n",
    "    with torch.no_grad():\n",
    "        correct = 0\n",
    "        total = 0\n",
    "        for images, labels in test_loader:\n",
    "            images = images.to(device)\n",
    "            labels = labels.to(device)\n",
    "            outputs = model(images)\n",
    "            _, predicted = torch.max(outputs[0].data, 1)\n",
    "            total += labels.size(0)\n",
    "            #pdb.set_trace()\n",
    "            correct += (predicted == labels).sum().item()\n",
    "            # The ending index for the next batch is denoted j.\n",
    "            j = min(i + test_batch_size, num_test)\n",
    "\n",
    "            # Calculate the predicted class using TensorFlow.\n",
    "            cls_pred[i:j] = predicted.detach().cpu().numpy()\n",
    "            cls_true[i:j] =labels.detach().cpu().numpy()\n",
    "            # Set the start-index for the next batch to the\n",
    "            # end-index of the current batch.\n",
    "            i = j\n",
    "\n",
    "    # Convenience variable for the true class-numbers of the test-set.\n",
    "\n",
    "\n",
    "    # Create a boolean array whether each image is correctly classified.\n",
    "    correct = (cls_true == cls_pred)\n",
    "\n",
    "    # Calculate the number of correctly classified images.\n",
    "    # When summing a boolean array, False means 0 and True means 1.\n",
    "    correct_sum = correct.sum()\n",
    "\n",
    "    # Classification accuracy is the number of correctly classified\n",
    "    # images divided by the total number of images in the test-set.\n",
    "    acc = float(correct_sum) / num_test\n",
    "\n",
    "    # Print the accuracy.\n",
    "    msg = \"Accuracy on Test-Set: {0:.1%} ({1} / {2})\"\n",
    "    print(msg.format(acc, correct_sum, num_test))\n",
    "\n",
    "    # Plot some examples of mis-classifications, if desired.\n",
    "    if show_example_errors:\n",
    "        print(\"Example errors:\")\n",
    "        plot_example_errors(cls_pred=cls_pred, correct=correct)\n",
    "\n",
    "    # Plot the confusion matrix, if desired.\n",
    "    if show_confusion_matrix:\n",
    "        print(\"Confusion Matrix:\")\n",
    "        plot_confusion_matrix(cls_pred=cls_pred, cls_true=cls_true)"
   ]
  },
  {
   "cell_type": "code",
   "execution_count": 32,
   "metadata": {},
   "outputs": [],
   "source": [
    "def plot_example_errors(cls_pred, correct):\n",
    "    incorrect = (correct == False)\n",
    "    images = test_dataset.data.cpu().numpy()[incorrect]\n",
    "    cls_pred = cls_pred[incorrect]\n",
    "    cls_true = test_dataset.targets.cpu().numpy()[incorrect]\n",
    "    plot_images(images=images[0:9],\n",
    "                cls_true=cls_true[0:9],\n",
    "                cls_pred=cls_pred[0:9])"
   ]
  },
  {
   "cell_type": "code",
   "execution_count": 33,
   "metadata": {},
   "outputs": [
    {
     "data": {
      "text/plain": [
       "(10000,)"
      ]
     },
     "execution_count": 33,
     "metadata": {},
     "output_type": "execute_result"
    }
   ],
   "source": [
    "test_dataset.targets.cpu().numpy().shape"
   ]
  },
  {
   "cell_type": "code",
   "execution_count": 34,
   "metadata": {},
   "outputs": [],
   "source": [
    "def plot_confusion_matrix(cls_pred,cls_true):\n",
    "    cm = confusion_matrix(y_true=cls_true,\n",
    "                          y_pred=cls_pred)\n",
    "    print(cm)"
   ]
  },
  {
   "cell_type": "code",
   "execution_count": 35,
   "metadata": {},
   "outputs": [
    {
     "name": "stderr",
     "output_type": "stream",
     "text": [
      "/tmp/ipykernel_49821/1522424286.py:8: DeprecationWarning: `np.int` is a deprecated alias for the builtin `int`. To silence this warning, use `int` by itself. Doing this will not modify any behavior and is safe. When replacing `np.int`, you may wish to use e.g. `np.int64` or `np.int32` to specify the precision. If you wish to review your current use, check the release note link for additional information.\n",
      "Deprecated in NumPy 1.20; for more details and guidance: https://numpy.org/devdocs/release/1.20.0-notes.html#deprecations\n",
      "  cls_pred = np.zeros(shape=num_test, dtype=np.int)\n",
      "/tmp/ipykernel_49821/1522424286.py:9: DeprecationWarning: `np.int` is a deprecated alias for the builtin `int`. To silence this warning, use `int` by itself. Doing this will not modify any behavior and is safe. When replacing `np.int`, you may wish to use e.g. `np.int64` or `np.int32` to specify the precision. If you wish to review your current use, check the release note link for additional information.\n",
      "Deprecated in NumPy 1.20; for more details and guidance: https://numpy.org/devdocs/release/1.20.0-notes.html#deprecations\n",
      "  cls_true = np.zeros(shape=num_test, dtype=np.int)\n"
     ]
    },
    {
     "name": "stdout",
     "output_type": "stream",
     "text": [
      "Accuracy on Test-Set: 98.6% (9857 / 10000)\n",
      "Example errors:\n"
     ]
    },
    {
     "data": {
      "image/png": "[encoded data removed]",
      "text/plain": [
       "<Figure size 640x480 with 9 Axes>"
      ]
     },
     "metadata": {},
     "output_type": "display_data"
    },
    {
     "name": "stdout",
     "output_type": "stream",
     "text": [
      "Confusion Matrix:\n",
      "[[ 973    0    0    0    0    2    1    1    3    0]\n",
      " [   0 1118    1    0    0    0    2    2   12    0]\n",
      " [   2    0 1018    2    1    0    1    2    6    0]\n",
      " [   2    0    0  990    0   12    0    3    2    1]\n",
      " [   0    0    1    0  976    0    1    2    2    0]\n",
      " [   2    0    0    2    0  885    2    0    1    0]\n",
      " [   3    2    0    0    2    6  944    0    1    0]\n",
      " [   0    1    7    0    0    0    0 1015    5    0]\n",
      " [   3    0    2    3    0    2    1    1  960    2]\n",
      " [   0    3    0    0   10    4    0    4   10  978]]\n"
     ]
    }
   ],
   "source": [
    "print_test_accuracy(show_example_errors=True,show_confusion_matrix=True)"
   ]
  },
  {
   "cell_type": "code",
   "execution_count": 36,
   "metadata": {},
   "outputs": [],
   "source": [
    "# Save the model checkpoint\n",
    "torch.save(model.state_dict(), 'model.ckpt')"
   ]
  }
 ],
 "metadata": {
  "kernelspec": {
   "display_name": "Python 3 (ipykernel)",
   "language": "python",
   "name": "python3"
  },
  "language_info": {
   "codemirror_mode": {
    "name": "ipython",
    "version": 3
   },
   "file_extension": ".py",
   "mimetype": "text/x-python",
   "name": "python",
   "nbconvert_exporter": "python",
   "pygments_lexer": "ipython3",
   "version": "3.8.10"
  }
 },
 "nbformat": 4,
 "nbformat_minor": 2
}
